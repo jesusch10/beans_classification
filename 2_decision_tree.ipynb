{
 "cells": [
  {
   "cell_type": "markdown",
   "id": "a7b4df5d-55f6-49fc-993c-4aa4cb045447",
   "metadata": {},
   "source": [
    "# Decision Tree and Random Forest"
   ]
  },
  {
   "cell_type": "markdown",
   "id": "98e3b913-6e09-402d-a73a-f9e3b04b5e0e",
   "metadata": {},
   "source": [
    "Classification of beans in species using Decision Tree and Random Forest with imbalanced or balanced (oversampled) data."
   ]
  },
  {
   "cell_type": "code",
   "execution_count": 80,
   "id": "46f813da-8dcd-452d-8575-a4be82873dfe",
   "metadata": {},
   "outputs": [],
   "source": [
    "# Installing dependencies\n",
    "import pickle\n",
    "import numpy as np\n",
    "import pandas as pd\n",
    "import matplotlib.pyplot as plt\n",
    "from scipy.stats import randint\n",
    "from sklearn.tree import DecisionTreeClassifier\n",
    "from sklearn.ensemble import RandomForestClassifier\n",
    "from sklearn.model_selection import RandomizedSearchCV, StratifiedKFold\n",
    "from sklearn.metrics import confusion_matrix, ConfusionMatrixDisplay\n",
    "from sklearn.metrics import accuracy_score, precision_score, recall_score, f1_score\n",
    "from imblearn.over_sampling import SMOTE\n",
    "from imblearn.pipeline import Pipeline"
   ]
  },
  {
   "cell_type": "code",
   "execution_count": 81,
   "id": "e76c945e-754d-4cce-8c1a-b8e00c9be01a",
   "metadata": {},
   "outputs": [],
   "source": [
    "# Fetching processed datasets\n",
    "with open('X_train', 'rb') as file: X_train = pickle.load(file)\n",
    "with open('y_train', 'rb') as file: y_train = np.ravel(pickle.load(file))\n",
    "with open('X_test' , 'rb') as file: X_test  = pickle.load(file)\n",
    "with open('y_test' , 'rb') as file: y_test  = pickle.load(file)"
   ]
  },
  {
   "cell_type": "markdown",
   "id": "1a47adbb-bf5d-42bf-b80a-e917d8acfe7e",
   "metadata": {},
   "source": [
    "### Decision Tree with imbalanced classes"
   ]
  },
  {
   "cell_type": "code",
   "execution_count": 60,
   "id": "4ed3e7d4-ec30-4f99-bbb2-e5240048cd66",
   "metadata": {},
   "outputs": [],
   "source": [
    "# Defining the hyperparameter distribution for random search\n",
    "param_dt = {\n",
    "    'criterion': ['gini', 'entropy', 'log_loss'],\n",
    "    'max_depth': [None] + list(range(5, 20)),\n",
    "    'min_samples_split': randint(2, 20),\n",
    "    'min_samples_leaf': randint(1, 20),\n",
    "    'max_features': [None, 'sqrt', 'log2']}"
   ]
  },
  {
   "cell_type": "code",
   "execution_count": 61,
   "id": "e4b0976e-da97-4075-aaa6-12892f1ea6f5",
   "metadata": {},
   "outputs": [
    {
     "name": "stdout",
     "output_type": "stream",
     "text": [
      "Best hyperparameters found: {'criterion': 'log_loss', 'max_depth': 9, 'max_features': None, 'min_samples_leaf': 2, 'min_samples_split': 13}\n"
     ]
    }
   ],
   "source": [
    "# Optimizing the hyperparameters\n",
    "tree_clf = DecisionTreeClassifier(random_state=42)\n",
    "random_search = RandomizedSearchCV(tree_clf, param_distributions=param_dt, n_iter=100, cv=5, scoring='f1_weighted', random_state=42, n_jobs = -1)\n",
    "random_search.fit(X_train, y_train)\n",
    "print(\"Best hyperparameters found:\", random_search.best_params_)"
   ]
  },
  {
   "cell_type": "code",
   "execution_count": 62,
   "id": "35767239-74c1-48ef-9a4a-254f7b3ea2b9",
   "metadata": {},
   "outputs": [
    {
     "data": {
      "text/html": [
       "<div>\n",
       "<style scoped>\n",
       "    .dataframe tbody tr th:only-of-type {\n",
       "        vertical-align: middle;\n",
       "    }\n",
       "\n",
       "    .dataframe tbody tr th {\n",
       "        vertical-align: top;\n",
       "    }\n",
       "\n",
       "    .dataframe thead th {\n",
       "        text-align: right;\n",
       "    }\n",
       "</style>\n",
       "<table border=\"1\" class=\"dataframe\">\n",
       "  <thead>\n",
       "    <tr style=\"text-align: right;\">\n",
       "      <th></th>\n",
       "      <th>DT</th>\n",
       "    </tr>\n",
       "  </thead>\n",
       "  <tbody>\n",
       "    <tr>\n",
       "      <th>Precision</th>\n",
       "      <td>0.9082</td>\n",
       "    </tr>\n",
       "    <tr>\n",
       "      <th>Recall</th>\n",
       "      <td>0.9079</td>\n",
       "    </tr>\n",
       "    <tr>\n",
       "      <th>F1 score</th>\n",
       "      <td>0.9080</td>\n",
       "    </tr>\n",
       "    <tr>\n",
       "      <th>Accuracy</th>\n",
       "      <td>0.9079</td>\n",
       "    </tr>\n",
       "  </tbody>\n",
       "</table>\n",
       "</div>"
      ],
      "text/plain": [
       "               DT\n",
       "Precision  0.9082\n",
       "Recall     0.9079\n",
       "F1 score   0.9080\n",
       "Accuracy   0.9079"
      ]
     },
     "execution_count": 62,
     "metadata": {},
     "output_type": "execute_result"
    }
   ],
   "source": [
    "# Evaluating the optimal decision tree\n",
    "best_clf = random_search.best_estimator_\n",
    "y_pred_dt = best_clf.predict(X_test)\n",
    "\n",
    "def calculate_metrics(y_test, y_pred):\n",
    "    \"\"\"Calculating scoring metrics\"\"\"\n",
    "    precision = round(precision_score(y_test, y_pred, average='weighted'), 4)\n",
    "    recall = round(recall_score(y_test, y_pred, average='weighted'), 4)\n",
    "    f1 = round(f1_score(y_test, y_pred, average='weighted'), 4)\n",
    "    accuracy = round(accuracy_score(y_test, y_pred), 4)\n",
    "    return [precision, recall, f1, accuracy]\n",
    "\n",
    "results_df = pd.DataFrame(index = ['Precision', 'Recall', 'F1 score', 'Accuracy'])\n",
    "results_df['DT'] = calculate_metrics(y_test, y_pred_dt)\n",
    "results_df"
   ]
  },
  {
   "cell_type": "code",
   "execution_count": 63,
   "id": "43d7536a-b3df-431a-90d1-c4e6adeb5481",
   "metadata": {},
   "outputs": [
    {
     "data": {
      "text/html": [
       "<div>\n",
       "<style scoped>\n",
       "    .dataframe tbody tr th:only-of-type {\n",
       "        vertical-align: middle;\n",
       "    }\n",
       "\n",
       "    .dataframe tbody tr th {\n",
       "        vertical-align: top;\n",
       "    }\n",
       "\n",
       "    .dataframe thead th {\n",
       "        text-align: right;\n",
       "    }\n",
       "</style>\n",
       "<table border=\"1\" class=\"dataframe\">\n",
       "  <thead>\n",
       "    <tr style=\"text-align: right;\">\n",
       "      <th></th>\n",
       "      <th>BARBUNYA</th>\n",
       "      <th>BOMBAY</th>\n",
       "      <th>CALI</th>\n",
       "      <th>DERMASON</th>\n",
       "      <th>HOROZ</th>\n",
       "      <th>SEKER</th>\n",
       "      <th>SIRA</th>\n",
       "    </tr>\n",
       "  </thead>\n",
       "  <tbody>\n",
       "    <tr>\n",
       "      <th>Precision</th>\n",
       "      <td>0.9026</td>\n",
       "      <td>1.0</td>\n",
       "      <td>0.9032</td>\n",
       "      <td>0.9093</td>\n",
       "      <td>0.9442</td>\n",
       "      <td>0.9310</td>\n",
       "      <td>0.8511</td>\n",
       "    </tr>\n",
       "    <tr>\n",
       "      <th>Recall</th>\n",
       "      <td>0.8889</td>\n",
       "      <td>1.0</td>\n",
       "      <td>0.9070</td>\n",
       "      <td>0.9136</td>\n",
       "      <td>0.9186</td>\n",
       "      <td>0.9385</td>\n",
       "      <td>0.8607</td>\n",
       "    </tr>\n",
       "    <tr>\n",
       "      <th>F1 score</th>\n",
       "      <td>0.8957</td>\n",
       "      <td>1.0</td>\n",
       "      <td>0.9051</td>\n",
       "      <td>0.9115</td>\n",
       "      <td>0.9313</td>\n",
       "      <td>0.9347</td>\n",
       "      <td>0.8559</td>\n",
       "    </tr>\n",
       "  </tbody>\n",
       "</table>\n",
       "</div>"
      ],
      "text/plain": [
       "           BARBUNYA  BOMBAY    CALI  DERMASON   HOROZ   SEKER    SIRA\n",
       "Precision    0.9026     1.0  0.9032    0.9093  0.9442  0.9310  0.8511\n",
       "Recall       0.8889     1.0  0.9070    0.9136  0.9186  0.9385  0.8607\n",
       "F1 score     0.8957     1.0  0.9051    0.9115  0.9313  0.9347  0.8559"
      ]
     },
     "execution_count": 63,
     "metadata": {},
     "output_type": "execute_result"
    }
   ],
   "source": [
    "# Evaluating the model by classes\n",
    "\n",
    "def calculate_metrics_classes(y_test, y_pred):\n",
    "    \"\"\"Calculating scoring metrics by class\"\"\"\n",
    "    results_df_class = pd.DataFrame(columns = sorted(set(y_test['Class'])))\n",
    "    results_df_class.loc['Precision'] = np.around(precision_score(y_test, y_pred, average=None), decimals = 4)\n",
    "    results_df_class.loc['Recall'] = np.around(recall_score(y_test, y_pred, average=None), decimals = 4)\n",
    "    results_df_class.loc['F1 score'] = np.around(f1_score(y_test, y_pred, average=None), decimals = 4)\n",
    "    return results_df_class\n",
    "\n",
    "results_df_class = calculate_metrics_classes(y_test, y_pred_dt)\n",
    "results_df_class"
   ]
  },
  {
   "cell_type": "markdown",
   "id": "16287c37-5150-4c70-b4f4-ebddea092f91",
   "metadata": {},
   "source": [
    "The model is able to perfectly separate Bombay, which is the minority class regarding the other classes. This could mean that the features are very discriminative for this class, or that there might be a sampling bias, where the minority class samples in the test set are very similar to those in the training set. Only more data from this type of bean can provide more context."
   ]
  },
  {
   "cell_type": "markdown",
   "id": "9ea02172-79b8-49d8-9b00-786d80790dfc",
   "metadata": {},
   "source": [
    "### Random Forest with imbalanced classes"
   ]
  },
  {
   "cell_type": "code",
   "execution_count": 64,
   "id": "dcfad3b4-3a0a-4707-939c-c700528af9e2",
   "metadata": {},
   "outputs": [],
   "source": [
    "# Defining the hyperparameter distribution for random search\n",
    "param_rf = {\n",
    "    'n_estimators': randint(50, 300),\n",
    "    'max_depth': [None] + list(range(5, 20)),\n",
    "    'min_samples_split': randint(2, 20),\n",
    "    'min_samples_leaf': randint(1, 20),\n",
    "    'max_features': [None, 'sqrt', 'log2'],\n",
    "    'criterion': ['gini', 'entropy', 'log_loss'],\n",
    "    'bootstrap': [True, False]}"
   ]
  },
  {
   "cell_type": "code",
   "execution_count": 65,
   "id": "923eeff9-4f48-4d6a-980e-8a47ca543c42",
   "metadata": {},
   "outputs": [
    {
     "name": "stdout",
     "output_type": "stream",
     "text": [
      "Best hyperparameters found: {'bootstrap': True, 'criterion': 'log_loss', 'max_depth': None, 'max_features': None, 'min_samples_leaf': 4, 'min_samples_split': 6, 'n_estimators': 200}\n"
     ]
    }
   ],
   "source": [
    "# Optimizing the hyperparameters\n",
    "rf_clf = RandomForestClassifier(random_state=42)\n",
    "random_search = RandomizedSearchCV(rf_clf, param_distributions=param_rf, n_iter=100, cv=5, scoring='f1_weighted', random_state=42, n_jobs = -1)\n",
    "random_search.fit(X_train, y_train)\n",
    "print(\"Best hyperparameters found:\", random_search.best_params_)"
   ]
  },
  {
   "cell_type": "code",
   "execution_count": 66,
   "id": "e034c250-de64-4116-bf39-10cbe1468075",
   "metadata": {},
   "outputs": [
    {
     "data": {
      "text/html": [
       "<div>\n",
       "<style scoped>\n",
       "    .dataframe tbody tr th:only-of-type {\n",
       "        vertical-align: middle;\n",
       "    }\n",
       "\n",
       "    .dataframe tbody tr th {\n",
       "        vertical-align: top;\n",
       "    }\n",
       "\n",
       "    .dataframe thead th {\n",
       "        text-align: right;\n",
       "    }\n",
       "</style>\n",
       "<table border=\"1\" class=\"dataframe\">\n",
       "  <thead>\n",
       "    <tr style=\"text-align: right;\">\n",
       "      <th></th>\n",
       "      <th>DT</th>\n",
       "      <th>RF</th>\n",
       "    </tr>\n",
       "  </thead>\n",
       "  <tbody>\n",
       "    <tr>\n",
       "      <th>Precision</th>\n",
       "      <td>0.9082</td>\n",
       "      <td>0.9225</td>\n",
       "    </tr>\n",
       "    <tr>\n",
       "      <th>Recall</th>\n",
       "      <td>0.9079</td>\n",
       "      <td>0.9225</td>\n",
       "    </tr>\n",
       "    <tr>\n",
       "      <th>F1 score</th>\n",
       "      <td>0.9080</td>\n",
       "      <td>0.9224</td>\n",
       "    </tr>\n",
       "    <tr>\n",
       "      <th>Accuracy</th>\n",
       "      <td>0.9079</td>\n",
       "      <td>0.9225</td>\n",
       "    </tr>\n",
       "  </tbody>\n",
       "</table>\n",
       "</div>"
      ],
      "text/plain": [
       "               DT      RF\n",
       "Precision  0.9082  0.9225\n",
       "Recall     0.9079  0.9225\n",
       "F1 score   0.9080  0.9224\n",
       "Accuracy   0.9079  0.9225"
      ]
     },
     "execution_count": 66,
     "metadata": {},
     "output_type": "execute_result"
    }
   ],
   "source": [
    "# Evaluating the optimal random forest\n",
    "best_rf_clf = random_search.best_estimator_\n",
    "y_pred_rf = best_rf_clf.predict(X_test)\n",
    "results_df['RF'] = calculate_metrics(y_test, y_pred_rf)\n",
    "results_df"
   ]
  },
  {
   "cell_type": "code",
   "execution_count": 67,
   "id": "d010be8f-b254-4f72-ac90-fee24c3adfa5",
   "metadata": {},
   "outputs": [],
   "source": [
    "# Saving optimal random forest with balanced classes\n",
    "with open('best_rf_clf.pkl', 'wb') as file:\n",
    "    pickle.dump(best_rf_clf, file)"
   ]
  },
  {
   "cell_type": "code",
   "execution_count": 68,
   "id": "37bf3610-cdc1-4890-ae43-0b79fc95aaba",
   "metadata": {},
   "outputs": [
    {
     "data": {
      "text/html": [
       "<div>\n",
       "<style scoped>\n",
       "    .dataframe tbody tr th:only-of-type {\n",
       "        vertical-align: middle;\n",
       "    }\n",
       "\n",
       "    .dataframe tbody tr th {\n",
       "        vertical-align: top;\n",
       "    }\n",
       "\n",
       "    .dataframe thead th {\n",
       "        text-align: right;\n",
       "    }\n",
       "</style>\n",
       "<table border=\"1\" class=\"dataframe\">\n",
       "  <thead>\n",
       "    <tr style=\"text-align: right;\">\n",
       "      <th></th>\n",
       "      <th>BARBUNYA</th>\n",
       "      <th>BOMBAY</th>\n",
       "      <th>CALI</th>\n",
       "      <th>DERMASON</th>\n",
       "      <th>HOROZ</th>\n",
       "      <th>SEKER</th>\n",
       "      <th>SIRA</th>\n",
       "    </tr>\n",
       "  </thead>\n",
       "  <tbody>\n",
       "    <tr>\n",
       "      <th>Precision</th>\n",
       "      <td>0.9184</td>\n",
       "      <td>1.0</td>\n",
       "      <td>0.9403</td>\n",
       "      <td>0.9123</td>\n",
       "      <td>0.9545</td>\n",
       "      <td>0.9435</td>\n",
       "      <td>0.8733</td>\n",
       "    </tr>\n",
       "    <tr>\n",
       "      <th>Recall</th>\n",
       "      <td>0.9091</td>\n",
       "      <td>1.0</td>\n",
       "      <td>0.9323</td>\n",
       "      <td>0.9277</td>\n",
       "      <td>0.9494</td>\n",
       "      <td>0.9450</td>\n",
       "      <td>0.8645</td>\n",
       "    </tr>\n",
       "    <tr>\n",
       "      <th>F1 score</th>\n",
       "      <td>0.9137</td>\n",
       "      <td>1.0</td>\n",
       "      <td>0.9363</td>\n",
       "      <td>0.9199</td>\n",
       "      <td>0.9519</td>\n",
       "      <td>0.9442</td>\n",
       "      <td>0.8689</td>\n",
       "    </tr>\n",
       "  </tbody>\n",
       "</table>\n",
       "</div>"
      ],
      "text/plain": [
       "           BARBUNYA  BOMBAY    CALI  DERMASON   HOROZ   SEKER    SIRA\n",
       "Precision    0.9184     1.0  0.9403    0.9123  0.9545  0.9435  0.8733\n",
       "Recall       0.9091     1.0  0.9323    0.9277  0.9494  0.9450  0.8645\n",
       "F1 score     0.9137     1.0  0.9363    0.9199  0.9519  0.9442  0.8689"
      ]
     },
     "execution_count": 68,
     "metadata": {},
     "output_type": "execute_result"
    }
   ],
   "source": [
    "# Evaluating the model by classes\n",
    "results_df_class = calculate_metrics_classes(y_test, y_pred_rf)\n",
    "results_df_class"
   ]
  },
  {
   "cell_type": "code",
   "execution_count": 69,
   "id": "2bfec518-5672-4321-85f3-3bb75e800c3a",
   "metadata": {},
   "outputs": [
    {
     "data": {
      "image/png": "[encoded data removed]",
      "text/plain": [
       "<Figure size 1000x1600 with 4 Axes>"
      ]
     },
     "metadata": {},
     "output_type": "display_data"
    }
   ],
   "source": [
    "# Plotting confusion matrices\n",
    "fig, axes = plt.subplots(1, 2, figsize=(10, 16))\n",
    "\n",
    "cm = confusion_matrix(y_test, y_pred_dt)\n",
    "disp = ConfusionMatrixDisplay(cm, display_labels = sorted(set(y_test['Class'])))\n",
    "disp.plot(ax=axes[0], colorbar = False)\n",
    "axes[0].set_title('DT with imbalanced classes')\n",
    "axes[0].tick_params(axis='x', rotation=90)\n",
    "plt.colorbar(disp.im_, ax=axes[0], shrink=0.2)\n",
    "\n",
    "cm = confusion_matrix(y_test, y_pred_rf)\n",
    "disp = ConfusionMatrixDisplay(cm, display_labels = sorted(set(y_test['Class'])))\n",
    "disp.plot(ax=axes[1], colorbar = False)\n",
    "axes[1].set_title('RF with imbalanced classes')\n",
    "axes[1].tick_params(axis='x', rotation=90)\n",
    "plt.colorbar(disp.im_, ax=axes[1], shrink=0.2)\n",
    "\n",
    "plt.tight_layout()\n",
    "plt.show()"
   ]
  },
  {
   "cell_type": "markdown",
   "id": "5c06c1b2-77da-4f6a-902d-1c7d67c34b42",
   "metadata": {},
   "source": [
    "Dermanson beans are often classified as Sira ones. Knowing that these two classes contains more samples than the rest, the model can be too simple to capture the complexity of data or a new informative feature to discriminate these two classes should be used."
   ]
  },
  {
   "cell_type": "markdown",
   "id": "fa86438d-654d-4eae-b2ea-4aaffce83b61",
   "metadata": {},
   "source": [
    "### Decision Tree with balanced classes"
   ]
  },
  {
   "cell_type": "code",
   "execution_count": 70,
   "id": "bd4a13e8-c44d-414e-a75e-e364e9bdaba9",
   "metadata": {},
   "outputs": [],
   "source": [
    "# Defining the hyperparameter distribution for random search\n",
    "param_dt = {\n",
    "    'dt__criterion': ['gini', 'entropy', 'log_loss'],\n",
    "    'dt__max_depth': [None] + list(range(5, 20)),\n",
    "    'dt__min_samples_split': randint(2, 20),\n",
    "    'dt__min_samples_leaf': randint(1, 20),\n",
    "    'dt__max_features': [None, 'sqrt', 'log2']}"
   ]
  },
  {
   "cell_type": "code",
   "execution_count": 71,
   "id": "0ee82518-ac70-40b4-abc0-c5ece7d4c065",
   "metadata": {},
   "outputs": [
    {
     "name": "stdout",
     "output_type": "stream",
     "text": [
      "Best hyperparameters found: {'dt__criterion': 'gini', 'dt__max_depth': 8, 'dt__max_features': None, 'dt__min_samples_leaf': 16, 'dt__min_samples_split': 5}\n"
     ]
    },
    {
     "data": {
      "text/html": [
       "<div>\n",
       "<style scoped>\n",
       "    .dataframe tbody tr th:only-of-type {\n",
       "        vertical-align: middle;\n",
       "    }\n",
       "\n",
       "    .dataframe tbody tr th {\n",
       "        vertical-align: top;\n",
       "    }\n",
       "\n",
       "    .dataframe thead th {\n",
       "        text-align: right;\n",
       "    }\n",
       "</style>\n",
       "<table border=\"1\" class=\"dataframe\">\n",
       "  <thead>\n",
       "    <tr style=\"text-align: right;\">\n",
       "      <th></th>\n",
       "      <th>DT</th>\n",
       "      <th>RF</th>\n",
       "      <th>DF + oversampling</th>\n",
       "    </tr>\n",
       "  </thead>\n",
       "  <tbody>\n",
       "    <tr>\n",
       "      <th>Precision</th>\n",
       "      <td>0.9082</td>\n",
       "      <td>0.9225</td>\n",
       "      <td>0.9038</td>\n",
       "    </tr>\n",
       "    <tr>\n",
       "      <th>Recall</th>\n",
       "      <td>0.9079</td>\n",
       "      <td>0.9225</td>\n",
       "      <td>0.9033</td>\n",
       "    </tr>\n",
       "    <tr>\n",
       "      <th>F1 score</th>\n",
       "      <td>0.9080</td>\n",
       "      <td>0.9224</td>\n",
       "      <td>0.9034</td>\n",
       "    </tr>\n",
       "    <tr>\n",
       "      <th>Accuracy</th>\n",
       "      <td>0.9079</td>\n",
       "      <td>0.9225</td>\n",
       "      <td>0.9033</td>\n",
       "    </tr>\n",
       "  </tbody>\n",
       "</table>\n",
       "</div>"
      ],
      "text/plain": [
       "               DT      RF  DF + oversampling\n",
       "Precision  0.9082  0.9225             0.9038\n",
       "Recall     0.9079  0.9225             0.9033\n",
       "F1 score   0.9080  0.9224             0.9034\n",
       "Accuracy   0.9079  0.9225             0.9033"
      ]
     },
     "execution_count": 71,
     "metadata": {},
     "output_type": "execute_result"
    }
   ],
   "source": [
    "# After oversampling the training data with SMOTE, AGAIN finding and evaluating the optimal model\n",
    "smote = SMOTE(random_state=42)\n",
    "pipeline = Pipeline([(\"smote\", smote, (\"dt\", tree_clf)])         # Defining an imblearn Pipeline: when passed to sklearn's RandomizedSearchCV, the transformations (oversampling\n",
    "kf = StratifiedKFold(n_splits=5, shuffle=True, random_state=42)  # in this case) appear only to be applied to the data on the training folds, and not the validation folds\n",
    "random_search = RandomizedSearchCV(pipeline, param_distributions=param_dt, n_iter=100, cv=kf, scoring='f1_weighted', random_state=42, n_jobs = -1)\n",
    "random_search.fit(X_train, y_train)\n",
    "print(\"Best hyperparameters found:\", random_search.best_params_)\n",
    "\n",
    "best_clf = random_search.best_estimator_\n",
    "y_pred_dt = best_clf.predict(X_test)\n",
    "results_df['DF + oversampling'] = calculate_metrics(y_test, y_pred_dt)\n",
    "results_df"
   ]
  },
  {
   "cell_type": "code",
   "execution_count": 72,
   "id": "9ec72da1-2f13-49b0-a7bc-b1f51076e453",
   "metadata": {},
   "outputs": [
    {
     "data": {
      "text/html": [
       "<div>\n",
       "<style scoped>\n",
       "    .dataframe tbody tr th:only-of-type {\n",
       "        vertical-align: middle;\n",
       "    }\n",
       "\n",
       "    .dataframe tbody tr th {\n",
       "        vertical-align: top;\n",
       "    }\n",
       "\n",
       "    .dataframe thead th {\n",
       "        text-align: right;\n",
       "    }\n",
       "</style>\n",
       "<table border=\"1\" class=\"dataframe\">\n",
       "  <thead>\n",
       "    <tr style=\"text-align: right;\">\n",
       "      <th></th>\n",
       "      <th>BARBUNYA</th>\n",
       "      <th>BOMBAY</th>\n",
       "      <th>CALI</th>\n",
       "      <th>DERMASON</th>\n",
       "      <th>HOROZ</th>\n",
       "      <th>SEKER</th>\n",
       "      <th>SIRA</th>\n",
       "    </tr>\n",
       "  </thead>\n",
       "  <tbody>\n",
       "    <tr>\n",
       "      <th>Precision</th>\n",
       "      <td>0.8976</td>\n",
       "      <td>1.0</td>\n",
       "      <td>0.9010</td>\n",
       "      <td>0.9096</td>\n",
       "      <td>0.9403</td>\n",
       "      <td>0.9359</td>\n",
       "      <td>0.8313</td>\n",
       "    </tr>\n",
       "    <tr>\n",
       "      <th>Recall</th>\n",
       "      <td>0.8636</td>\n",
       "      <td>1.0</td>\n",
       "      <td>0.9239</td>\n",
       "      <td>0.8977</td>\n",
       "      <td>0.9403</td>\n",
       "      <td>0.9207</td>\n",
       "      <td>0.8595</td>\n",
       "    </tr>\n",
       "    <tr>\n",
       "      <th>F1 score</th>\n",
       "      <td>0.8803</td>\n",
       "      <td>1.0</td>\n",
       "      <td>0.9123</td>\n",
       "      <td>0.9036</td>\n",
       "      <td>0.9403</td>\n",
       "      <td>0.9282</td>\n",
       "      <td>0.8452</td>\n",
       "    </tr>\n",
       "  </tbody>\n",
       "</table>\n",
       "</div>"
      ],
      "text/plain": [
       "           BARBUNYA  BOMBAY    CALI  DERMASON   HOROZ   SEKER    SIRA\n",
       "Precision    0.8976     1.0  0.9010    0.9096  0.9403  0.9359  0.8313\n",
       "Recall       0.8636     1.0  0.9239    0.8977  0.9403  0.9207  0.8595\n",
       "F1 score     0.8803     1.0  0.9123    0.9036  0.9403  0.9282  0.8452"
      ]
     },
     "execution_count": 72,
     "metadata": {},
     "output_type": "execute_result"
    }
   ],
   "source": [
    "# Evaluating the model by classes\n",
    "results_df_class = calculate_metrics_classes(y_test, y_pred_dt)\n",
    "results_df_class"
   ]
  },
  {
   "cell_type": "markdown",
   "id": "5306a60c-b2e4-448f-8a4f-433b402ec6d4",
   "metadata": {},
   "source": [
    "### Random Forest with balanced classes"
   ]
  },
  {
   "cell_type": "code",
   "execution_count": 74,
   "id": "51823ab0-8b5f-4576-8906-2c6327852695",
   "metadata": {},
   "outputs": [],
   "source": [
    "# Defining the hyperparameter distribution for random search\n",
    "param_rf = {\n",
    "    'rf__n_estimators': randint(50, 300),\n",
    "    'rf__max_depth': [None] + list(range(5, 20)),\n",
    "    'rf__min_samples_split': randint(2, 20),\n",
    "    'rf__min_samples_leaf': randint(1, 20),\n",
    "    'rf__max_features': [None, 'sqrt', 'log2'],\n",
    "    'rf__criterion': ['gini', 'entropy', 'log_loss'],\n",
    "    'rf__bootstrap': [True, False]}"
   ]
  },
  {
   "cell_type": "code",
   "execution_count": 77,
   "id": "82e9331e-692d-4c9a-b821-07c39f482b89",
   "metadata": {},
   "outputs": [
    {
     "name": "stdout",
     "output_type": "stream",
     "text": [
      "Best hyperparameters found: {'rf__bootstrap': True, 'rf__criterion': 'log_loss', 'rf__max_depth': 18, 'rf__max_features': 'sqrt', 'rf__min_samples_leaf': 2, 'rf__min_samples_split': 18, 'rf__n_estimators': 229}\n"
     ]
    },
    {
     "data": {
      "text/html": [
       "<div>\n",
       "<style scoped>\n",
       "    .dataframe tbody tr th:only-of-type {\n",
       "        vertical-align: middle;\n",
       "    }\n",
       "\n",
       "    .dataframe tbody tr th {\n",
       "        vertical-align: top;\n",
       "    }\n",
       "\n",
       "    .dataframe thead th {\n",
       "        text-align: right;\n",
       "    }\n",
       "</style>\n",
       "<table border=\"1\" class=\"dataframe\">\n",
       "  <thead>\n",
       "    <tr style=\"text-align: right;\">\n",
       "      <th></th>\n",
       "      <th>DT</th>\n",
       "      <th>RF</th>\n",
       "      <th>DF + oversampling</th>\n",
       "      <th>RF + oversampling</th>\n",
       "    </tr>\n",
       "  </thead>\n",
       "  <tbody>\n",
       "    <tr>\n",
       "      <th>Precision</th>\n",
       "      <td>0.9082</td>\n",
       "      <td>0.9225</td>\n",
       "      <td>0.9038</td>\n",
       "      <td>0.9207</td>\n",
       "    </tr>\n",
       "    <tr>\n",
       "      <th>Recall</th>\n",
       "      <td>0.9079</td>\n",
       "      <td>0.9225</td>\n",
       "      <td>0.9033</td>\n",
       "      <td>0.9205</td>\n",
       "    </tr>\n",
       "    <tr>\n",
       "      <th>F1 score</th>\n",
       "      <td>0.9080</td>\n",
       "      <td>0.9224</td>\n",
       "      <td>0.9034</td>\n",
       "      <td>0.9206</td>\n",
       "    </tr>\n",
       "    <tr>\n",
       "      <th>Accuracy</th>\n",
       "      <td>0.9079</td>\n",
       "      <td>0.9225</td>\n",
       "      <td>0.9033</td>\n",
       "      <td>0.9205</td>\n",
       "    </tr>\n",
       "  </tbody>\n",
       "</table>\n",
       "</div>"
      ],
      "text/plain": [
       "               DT      RF  DF + oversampling  RF + oversampling\n",
       "Precision  0.9082  0.9225             0.9038             0.9207\n",
       "Recall     0.9079  0.9225             0.9033             0.9205\n",
       "F1 score   0.9080  0.9224             0.9034             0.9206\n",
       "Accuracy   0.9079  0.9225             0.9033             0.9205"
      ]
     },
     "execution_count": 77,
     "metadata": {},
     "output_type": "execute_result"
    }
   ],
   "source": [
    "# After oversampling the training data with SMOTE, AGAIN finding, training and evaluating the optimal model\n",
    "pipeline = Pipeline([(\"smote\", SMOTE()), (\"rf\", rf_clf)])\n",
    "kf = StratifiedKFold(n_splits=5, shuffle=True, random_state=42)\n",
    "random_search = RandomizedSearchCV(pipeline, param_distributions=param_rf, n_iter=100, cv=kf, scoring='f1_weighted', random_state=42, n_jobs = -1)\n",
    "random_search.fit(X_train, y_train)\n",
    "print(\"Best hyperparameters found:\", random_search.best_params_)\n",
    "\n",
    "best_rf_clf = random_search.best_estimator_\n",
    "y_pred_rf = best_rf_clf.predict(X_test)\n",
    "results_df['RF + oversampling'] = calculate_metrics(y_test, y_pred_rf)\n",
    "results_df"
   ]
  },
  {
   "cell_type": "markdown",
   "id": "f6dd17a9-d6b8-4bff-a7ee-178a57db6d63",
   "metadata": {},
   "source": [
    "The test results show that classification using any Random Forest achieves better results than any Decision Tree. On the other hand, Random Forest trained with imbalanced data was slightly better than the one trained with balanced data."
   ]
  },
  {
   "cell_type": "code",
   "execution_count": 78,
   "id": "527805bb-dbbd-46ef-9e87-c75dd2fcc632",
   "metadata": {
    "scrolled": true
   },
   "outputs": [
    {
     "data": {
      "text/html": [
       "<div>\n",
       "<style scoped>\n",
       "    .dataframe tbody tr th:only-of-type {\n",
       "        vertical-align: middle;\n",
       "    }\n",
       "\n",
       "    .dataframe tbody tr th {\n",
       "        vertical-align: top;\n",
       "    }\n",
       "\n",
       "    .dataframe thead th {\n",
       "        text-align: right;\n",
       "    }\n",
       "</style>\n",
       "<table border=\"1\" class=\"dataframe\">\n",
       "  <thead>\n",
       "    <tr style=\"text-align: right;\">\n",
       "      <th></th>\n",
       "      <th>BARBUNYA</th>\n",
       "      <th>BOMBAY</th>\n",
       "      <th>CALI</th>\n",
       "      <th>DERMASON</th>\n",
       "      <th>HOROZ</th>\n",
       "      <th>SEKER</th>\n",
       "      <th>SIRA</th>\n",
       "    </tr>\n",
       "  </thead>\n",
       "  <tbody>\n",
       "    <tr>\n",
       "      <th>Precision</th>\n",
       "      <td>0.9188</td>\n",
       "      <td>1.0</td>\n",
       "      <td>0.9290</td>\n",
       "      <td>0.9237</td>\n",
       "      <td>0.9561</td>\n",
       "      <td>0.9373</td>\n",
       "      <td>0.8594</td>\n",
       "    </tr>\n",
       "    <tr>\n",
       "      <th>Recall</th>\n",
       "      <td>0.9141</td>\n",
       "      <td>1.0</td>\n",
       "      <td>0.9408</td>\n",
       "      <td>0.9099</td>\n",
       "      <td>0.9458</td>\n",
       "      <td>0.9434</td>\n",
       "      <td>0.8745</td>\n",
       "    </tr>\n",
       "    <tr>\n",
       "      <th>F1 score</th>\n",
       "      <td>0.9165</td>\n",
       "      <td>1.0</td>\n",
       "      <td>0.9349</td>\n",
       "      <td>0.9167</td>\n",
       "      <td>0.9509</td>\n",
       "      <td>0.9403</td>\n",
       "      <td>0.8669</td>\n",
       "    </tr>\n",
       "  </tbody>\n",
       "</table>\n",
       "</div>"
      ],
      "text/plain": [
       "           BARBUNYA  BOMBAY    CALI  DERMASON   HOROZ   SEKER    SIRA\n",
       "Precision    0.9188     1.0  0.9290    0.9237  0.9561  0.9373  0.8594\n",
       "Recall       0.9141     1.0  0.9408    0.9099  0.9458  0.9434  0.8745\n",
       "F1 score     0.9165     1.0  0.9349    0.9167  0.9509  0.9403  0.8669"
      ]
     },
     "execution_count": 78,
     "metadata": {},
     "output_type": "execute_result"
    }
   ],
   "source": [
    "# Evaluating the model by classes\n",
    "results_df_class = calculate_metrics_classes(y_test, y_pred_rf)\n",
    "results_df_class"
   ]
  },
  {
   "cell_type": "code",
   "execution_count": 79,
   "id": "f1c96740-ed40-4d47-9bda-5100c9d6e83e",
   "metadata": {},
   "outputs": [
    {
     "data": {
      "image/png": "[encoded data removed]",
      "text/plain": [
       "<Figure size 1000x1600 with 4 Axes>"
      ]
     },
     "metadata": {},
     "output_type": "display_data"
    }
   ],
   "source": [
    "# Plotting confusion matrices\n",
    "fig, axes = plt.subplots(1, 2, figsize=(10, 16))\n",
    "\n",
    "cm = confusion_matrix(y_test, y_pred_rf)\n",
    "disp = ConfusionMatrixDisplay(cm, display_labels = sorted(set(y_test['Class'])))\n",
    "disp.plot(ax=axes[0], colorbar = False)\n",
    "axes[0].set_title('DT with balanced classes')\n",
    "axes[0].tick_params(axis='x', rotation=90)\n",
    "plt.colorbar(disp.im_, ax=axes[0], shrink=0.2)\n",
    "\n",
    "cm = confusion_matrix(y_test, y_pred_dt)\n",
    "disp = ConfusionMatrixDisplay(cm, display_labels = sorted(set(y_test['Class'])))\n",
    "disp.plot(ax=axes[1], colorbar = False)\n",
    "axes[1].set_title('RF with balanced classes')\n",
    "axes[1].tick_params(axis='x', rotation=90)\n",
    "plt.colorbar(disp.im_, ax=axes[1], shrink=0.2)\n",
    "\n",
    "plt.tight_layout()\n",
    "plt.show()"
   ]
  },
  {
   "cell_type": "markdown",
   "id": "ec3cbce7-5187-43d1-8a4b-4863fa212ca1",
   "metadata": {},
   "source": [
    "Missclasification increased with balanced data; Random Forests are generally robust to class imbalance due to their ensemble nature. Oversampling can lead to overfitting, especially if the oversampled data is not representative of the actual distribution of the minority class (not Bombay as commented, but Sira when compared to Dermason, although an extra informative feature may solve it as mentioned before). Random Forests may overfit to these synthetic examples, leading to decreased performance on unseen data."
   ]
  }
 ],
 "metadata": {
  "kernelspec": {
   "display_name": "Python 3 (ipykernel)",
   "language": "python",
   "name": "python3"
  },
  "language_info": {
   "codemirror_mode": {
    "name": "ipython",
    "version": 3
   },
   "file_extension": ".py",
   "mimetype": "text/x-python",
   "name": "python",
   "nbconvert_exporter": "python",
   "pygments_lexer": "ipython3",
   "version": "3.12.2"
  }
 },
 "nbformat": 4,
 "nbformat_minor": 5
}
