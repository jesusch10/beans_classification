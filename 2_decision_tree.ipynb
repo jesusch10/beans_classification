{
 "cells": [
  {
   "cell_type": "markdown",
   "id": "a7b4df5d-55f6-49fc-993c-4aa4cb045447",
   "metadata": {},
   "source": [
    "# Decision Tree and Random Forest"
   ]
  },
  {
   "cell_type": "markdown",
   "id": "98e3b913-6e09-402d-a73a-f9e3b04b5e0e",
   "metadata": {},
   "source": [
    "Classification of beans in species using Decision Tree and Random Forest with imbalanced and balanced (oversampled) data."
   ]
  },
  {
   "cell_type": "code",
   "execution_count": 38,
   "id": "46f813da-8dcd-452d-8575-a4be82873dfe",
   "metadata": {},
   "outputs": [],
   "source": [
    "# Installing dependencies\n",
    "import pickle\n",
    "import numpy as np\n",
    "import pandas as pd\n",
    "import matplotlib.pyplot as plt\n",
    "from scipy.stats import randint\n",
    "from sklearn.tree import DecisionTreeClassifier\n",
    "from sklearn.model_selection import train_test_split\n",
    "from sklearn.ensemble import RandomForestClassifier\n",
    "from sklearn.model_selection import RandomizedSearchCV\n",
    "from sklearn.metrics import confusion_matrix, ConfusionMatrixDisplay\n",
    "from sklearn.metrics import accuracy_score, precision_score, recall_score, f1_score"
   ]
  },
  {
   "cell_type": "code",
   "execution_count": 39,
   "id": "e76c945e-754d-4cce-8c1a-b8e00c9be01a",
   "metadata": {},
   "outputs": [],
   "source": [
    "# Fetching dataset\n",
    "with open('dry_bean_dataset.pkl', 'rb') as file:\n",
    "    dry_bean_dataset = pickle.load(file)"
   ]
  },
  {
   "cell_type": "code",
   "execution_count": 40,
   "id": "04028e76-4b1c-48b5-bef7-4b5158797d5b",
   "metadata": {},
   "outputs": [],
   "source": [
    "# Splitting dataset in training (70%) and test (30%) subsets\n",
    "X_train, X_test, y_train, y_test = train_test_split(dry_bean_dataset.data.features, dry_bean_dataset.data.targets, test_size=0.3, random_state=42)\n",
    "y_train = np.ravel(y_train)"
   ]
  },
  {
   "cell_type": "markdown",
   "id": "1a47adbb-bf5d-42bf-b80a-e917d8acfe7e",
   "metadata": {},
   "source": [
    "### Decision Tree with imbalanced classes"
   ]
  },
  {
   "cell_type": "code",
   "execution_count": 41,
   "id": "4ed3e7d4-ec30-4f99-bbb2-e5240048cd66",
   "metadata": {},
   "outputs": [],
   "source": [
    "# Defining the hyperparameter distribution for random search\n",
    "param_dt = {\n",
    "    'criterion': ['gini', 'entropy', 'log_loss'],\n",
    "    'max_depth': [None] + list(range(5, 20)),\n",
    "    'min_samples_split': randint(2, 20),\n",
    "    'min_samples_leaf': randint(1, 20),\n",
    "    'max_features': [None, 'sqrt', 'log2']}"
   ]
  },
  {
   "cell_type": "code",
   "execution_count": 42,
   "id": "e4b0976e-da97-4075-aaa6-12892f1ea6f5",
   "metadata": {},
   "outputs": [
    {
     "name": "stdout",
     "output_type": "stream",
     "text": [
      "Best hyperparameters found: {'criterion': 'log_loss', 'max_depth': 9, 'max_features': None, 'min_samples_leaf': 2, 'min_samples_split': 13}\n"
     ]
    }
   ],
   "source": [
    "# Optimizing the hyperparameters\n",
    "tree_clf = DecisionTreeClassifier(random_state=42)\n",
    "random_search = RandomizedSearchCV(tree_clf, param_distributions=param_dt, n_iter=100, cv=5, scoring='f1_weighted', random_state=42, n_jobs = -1)\n",
    "random_search.fit(X_train, y_train)\n",
    "print(\"Best hyperparameters found:\", random_search.best_params_)"
   ]
  },
  {
   "cell_type": "code",
   "execution_count": 43,
   "id": "35767239-74c1-48ef-9a4a-254f7b3ea2b9",
   "metadata": {},
   "outputs": [
    {
     "data": {
      "text/html": [
       "<div>\n",
       "<style scoped>\n",
       "    .dataframe tbody tr th:only-of-type {\n",
       "        vertical-align: middle;\n",
       "    }\n",
       "\n",
       "    .dataframe tbody tr th {\n",
       "        vertical-align: top;\n",
       "    }\n",
       "\n",
       "    .dataframe thead th {\n",
       "        text-align: right;\n",
       "    }\n",
       "</style>\n",
       "<table border=\"1\" class=\"dataframe\">\n",
       "  <thead>\n",
       "    <tr style=\"text-align: right;\">\n",
       "      <th></th>\n",
       "      <th>DT</th>\n",
       "    </tr>\n",
       "  </thead>\n",
       "  <tbody>\n",
       "    <tr>\n",
       "      <th>Precision</th>\n",
       "      <td>0.9082</td>\n",
       "    </tr>\n",
       "    <tr>\n",
       "      <th>Recall</th>\n",
       "      <td>0.9079</td>\n",
       "    </tr>\n",
       "    <tr>\n",
       "      <th>F1 score</th>\n",
       "      <td>0.9080</td>\n",
       "    </tr>\n",
       "    <tr>\n",
       "      <th>Accuracy</th>\n",
       "      <td>0.9079</td>\n",
       "    </tr>\n",
       "  </tbody>\n",
       "</table>\n",
       "</div>"
      ],
      "text/plain": [
       "               DT\n",
       "Precision  0.9082\n",
       "Recall     0.9079\n",
       "F1 score   0.9080\n",
       "Accuracy   0.9079"
      ]
     },
     "execution_count": 43,
     "metadata": {},
     "output_type": "execute_result"
    }
   ],
   "source": [
    "# Evaluating the optimal decision tree\n",
    "best_clf = random_search.best_estimator_\n",
    "y_pred_dt = best_clf.predict(X_test)\n",
    "precision = round(precision_score(y_test, y_pred_dt, average='weighted'), 4)\n",
    "recall = round(recall_score(y_test, y_pred_dt, average='weighted'), 4)\n",
    "f1 = round(f1_score(y_test, y_pred_dt, average='weighted'), 4)\n",
    "accuracy = round(accuracy_score(y_test, y_pred_dt), 4)\n",
    "\n",
    "results_df = pd.DataFrame(index = ['Precision', 'Recall', 'F1 score', 'Accuracy'])\n",
    "results_df['DT'] = [precision, recall, f1, accuracy]\n",
    "results_df"
   ]
  },
  {
   "cell_type": "code",
   "execution_count": 44,
   "id": "43d7536a-b3df-431a-90d1-c4e6adeb5481",
   "metadata": {},
   "outputs": [
    {
     "data": {
      "text/html": [
       "<div>\n",
       "<style scoped>\n",
       "    .dataframe tbody tr th:only-of-type {\n",
       "        vertical-align: middle;\n",
       "    }\n",
       "\n",
       "    .dataframe tbody tr th {\n",
       "        vertical-align: top;\n",
       "    }\n",
       "\n",
       "    .dataframe thead th {\n",
       "        text-align: right;\n",
       "    }\n",
       "</style>\n",
       "<table border=\"1\" class=\"dataframe\">\n",
       "  <thead>\n",
       "    <tr style=\"text-align: right;\">\n",
       "      <th></th>\n",
       "      <th>BARBUNYA</th>\n",
       "      <th>BOMBAY</th>\n",
       "      <th>CALI</th>\n",
       "      <th>DERMASON</th>\n",
       "      <th>HOROZ</th>\n",
       "      <th>SEKER</th>\n",
       "      <th>SIRA</th>\n",
       "    </tr>\n",
       "  </thead>\n",
       "  <tbody>\n",
       "    <tr>\n",
       "      <th>Precision</th>\n",
       "      <td>0.9026</td>\n",
       "      <td>1.0</td>\n",
       "      <td>0.9032</td>\n",
       "      <td>0.9093</td>\n",
       "      <td>0.9442</td>\n",
       "      <td>0.9310</td>\n",
       "      <td>0.8511</td>\n",
       "    </tr>\n",
       "    <tr>\n",
       "      <th>Recall</th>\n",
       "      <td>0.8889</td>\n",
       "      <td>1.0</td>\n",
       "      <td>0.9070</td>\n",
       "      <td>0.9136</td>\n",
       "      <td>0.9186</td>\n",
       "      <td>0.9385</td>\n",
       "      <td>0.8607</td>\n",
       "    </tr>\n",
       "    <tr>\n",
       "      <th>F1 score</th>\n",
       "      <td>0.8957</td>\n",
       "      <td>1.0</td>\n",
       "      <td>0.9051</td>\n",
       "      <td>0.9115</td>\n",
       "      <td>0.9313</td>\n",
       "      <td>0.9347</td>\n",
       "      <td>0.8559</td>\n",
       "    </tr>\n",
       "  </tbody>\n",
       "</table>\n",
       "</div>"
      ],
      "text/plain": [
       "           BARBUNYA  BOMBAY    CALI  DERMASON   HOROZ   SEKER    SIRA\n",
       "Precision    0.9026     1.0  0.9032    0.9093  0.9442  0.9310  0.8511\n",
       "Recall       0.8889     1.0  0.9070    0.9136  0.9186  0.9385  0.8607\n",
       "F1 score     0.8957     1.0  0.9051    0.9115  0.9313  0.9347  0.8559"
      ]
     },
     "execution_count": 44,
     "metadata": {},
     "output_type": "execute_result"
    }
   ],
   "source": [
    "# Evaluating the model by classes\n",
    "results_df_class = pd.DataFrame(columns = sorted(set(y_test['Class'])))\n",
    "results_df_class.loc['Precision'] = np.around(precision_score(y_test, y_pred_dt, average=None), decimals = 4)\n",
    "results_df_class.loc['Recall'] = np.around(recall_score(y_test, y_pred_dt, average=None), decimals = 4)\n",
    "results_df_class.loc['F1 score'] = np.around(f1_score(y_test, y_pred_dt, average=None), decimals = 4)\n",
    "results_df_class"
   ]
  },
  {
   "cell_type": "markdown",
   "id": "9ea02172-79b8-49d8-9b00-786d80790dfc",
   "metadata": {},
   "source": [
    "### Random Forest with imbalanced classes"
   ]
  },
  {
   "cell_type": "code",
   "execution_count": 45,
   "id": "dcfad3b4-3a0a-4707-939c-c700528af9e2",
   "metadata": {},
   "outputs": [],
   "source": [
    "# Defining the hyperparameter distribution for random search\n",
    "param_rf = {\n",
    "    'n_estimators': randint(50, 300),\n",
    "    'max_depth': [None] + list(range(5, 20)),\n",
    "    'min_samples_split': randint(2, 20),\n",
    "    'min_samples_leaf': randint(1, 20),\n",
    "    'max_features': [None, 'sqrt', 'log2'],\n",
    "    'criterion': ['gini', 'entropy', 'log_loss'],\n",
    "    'bootstrap': [True, False]}"
   ]
  },
  {
   "cell_type": "code",
   "execution_count": 46,
   "id": "923eeff9-4f48-4d6a-980e-8a47ca543c42",
   "metadata": {},
   "outputs": [
    {
     "name": "stdout",
     "output_type": "stream",
     "text": [
      "Best hyperparameters found: {'bootstrap': True, 'criterion': 'log_loss', 'max_depth': None, 'max_features': None, 'min_samples_leaf': 4, 'min_samples_split': 6, 'n_estimators': 200}\n"
     ]
    }
   ],
   "source": [
    "# Optimizing the hyperparameters\n",
    "rf_clf = RandomForestClassifier(random_state=42)\n",
    "random_search = RandomizedSearchCV(rf_clf, param_distributions=param_rf, n_iter=100, cv=5, scoring='f1_weighted', random_state=42, n_jobs = -1)\n",
    "random_search.fit(X_train, y_train)\n",
    "print(\"Best hyperparameters found:\", random_search.best_params_)"
   ]
  },
  {
   "cell_type": "code",
   "execution_count": 47,
   "id": "e034c250-de64-4116-bf39-10cbe1468075",
   "metadata": {},
   "outputs": [
    {
     "data": {
      "text/html": [
       "<div>\n",
       "<style scoped>\n",
       "    .dataframe tbody tr th:only-of-type {\n",
       "        vertical-align: middle;\n",
       "    }\n",
       "\n",
       "    .dataframe tbody tr th {\n",
       "        vertical-align: top;\n",
       "    }\n",
       "\n",
       "    .dataframe thead th {\n",
       "        text-align: right;\n",
       "    }\n",
       "</style>\n",
       "<table border=\"1\" class=\"dataframe\">\n",
       "  <thead>\n",
       "    <tr style=\"text-align: right;\">\n",
       "      <th></th>\n",
       "      <th>DT</th>\n",
       "      <th>RF</th>\n",
       "    </tr>\n",
       "  </thead>\n",
       "  <tbody>\n",
       "    <tr>\n",
       "      <th>Precision</th>\n",
       "      <td>0.9082</td>\n",
       "      <td>0.9225</td>\n",
       "    </tr>\n",
       "    <tr>\n",
       "      <th>Recall</th>\n",
       "      <td>0.9079</td>\n",
       "      <td>0.9225</td>\n",
       "    </tr>\n",
       "    <tr>\n",
       "      <th>F1 score</th>\n",
       "      <td>0.9080</td>\n",
       "      <td>0.9224</td>\n",
       "    </tr>\n",
       "    <tr>\n",
       "      <th>Accuracy</th>\n",
       "      <td>0.9079</td>\n",
       "      <td>0.9225</td>\n",
       "    </tr>\n",
       "  </tbody>\n",
       "</table>\n",
       "</div>"
      ],
      "text/plain": [
       "               DT      RF\n",
       "Precision  0.9082  0.9225\n",
       "Recall     0.9079  0.9225\n",
       "F1 score   0.9080  0.9224\n",
       "Accuracy   0.9079  0.9225"
      ]
     },
     "execution_count": 47,
     "metadata": {},
     "output_type": "execute_result"
    }
   ],
   "source": [
    "# Evaluating the optimal random forest\n",
    "best_rf_clf = random_search.best_estimator_\n",
    "y_pred_rf = best_rf_clf.predict(X_test)\n",
    "precision = round(precision_score(y_test, y_pred_rf, average='weighted'), 4)\n",
    "recall = round(recall_score(y_test, y_pred_rf, average='weighted'), 4)\n",
    "f1 = round(f1_score(y_test, y_pred_rf, average='weighted'), 4)\n",
    "accuracy = round(accuracy_score(y_test, y_pred_rf), 4)\n",
    "\n",
    "results_df['RF'] = [precision, recall, f1, accuracy]\n",
    "results_df"
   ]
  },
  {
   "cell_type": "code",
   "execution_count": 48,
   "id": "37bf3610-cdc1-4890-ae43-0b79fc95aaba",
   "metadata": {},
   "outputs": [
    {
     "data": {
      "text/html": [
       "<div>\n",
       "<style scoped>\n",
       "    .dataframe tbody tr th:only-of-type {\n",
       "        vertical-align: middle;\n",
       "    }\n",
       "\n",
       "    .dataframe tbody tr th {\n",
       "        vertical-align: top;\n",
       "    }\n",
       "\n",
       "    .dataframe thead th {\n",
       "        text-align: right;\n",
       "    }\n",
       "</style>\n",
       "<table border=\"1\" class=\"dataframe\">\n",
       "  <thead>\n",
       "    <tr style=\"text-align: right;\">\n",
       "      <th></th>\n",
       "      <th>BARBUNYA</th>\n",
       "      <th>BOMBAY</th>\n",
       "      <th>CALI</th>\n",
       "      <th>DERMASON</th>\n",
       "      <th>HOROZ</th>\n",
       "      <th>SEKER</th>\n",
       "      <th>SIRA</th>\n",
       "    </tr>\n",
       "  </thead>\n",
       "  <tbody>\n",
       "    <tr>\n",
       "      <th>Precision</th>\n",
       "      <td>0.9184</td>\n",
       "      <td>1.0</td>\n",
       "      <td>0.9403</td>\n",
       "      <td>0.9123</td>\n",
       "      <td>0.9545</td>\n",
       "      <td>0.9435</td>\n",
       "      <td>0.8733</td>\n",
       "    </tr>\n",
       "    <tr>\n",
       "      <th>Recall</th>\n",
       "      <td>0.9091</td>\n",
       "      <td>1.0</td>\n",
       "      <td>0.9323</td>\n",
       "      <td>0.9277</td>\n",
       "      <td>0.9494</td>\n",
       "      <td>0.9450</td>\n",
       "      <td>0.8645</td>\n",
       "    </tr>\n",
       "    <tr>\n",
       "      <th>F1 score</th>\n",
       "      <td>0.9137</td>\n",
       "      <td>1.0</td>\n",
       "      <td>0.9363</td>\n",
       "      <td>0.9199</td>\n",
       "      <td>0.9519</td>\n",
       "      <td>0.9442</td>\n",
       "      <td>0.8689</td>\n",
       "    </tr>\n",
       "  </tbody>\n",
       "</table>\n",
       "</div>"
      ],
      "text/plain": [
       "           BARBUNYA  BOMBAY    CALI  DERMASON   HOROZ   SEKER    SIRA\n",
       "Precision    0.9184     1.0  0.9403    0.9123  0.9545  0.9435  0.8733\n",
       "Recall       0.9091     1.0  0.9323    0.9277  0.9494  0.9450  0.8645\n",
       "F1 score     0.9137     1.0  0.9363    0.9199  0.9519  0.9442  0.8689"
      ]
     },
     "execution_count": 48,
     "metadata": {},
     "output_type": "execute_result"
    }
   ],
   "source": [
    "# Evaluating the model by classes\n",
    "results_df_class = pd.DataFrame(columns = sorted(set(y_test['Class'])))\n",
    "results_df_class.loc['Precision'] = np.around(precision_score(y_test, y_pred_rf, average=None), decimals = 4)\n",
    "results_df_class.loc['Recall'] = np.around(recall_score(y_test, y_pred_rf, average=None), decimals = 4)\n",
    "results_df_class.loc['F1 score'] = np.around(f1_score(y_test, y_pred_rf, average=None), decimals = 4)\n",
    "results_df_class"
   ]
  },
  {
   "cell_type": "code",
   "execution_count": 49,
   "id": "2bfec518-5672-4321-85f3-3bb75e800c3a",
   "metadata": {},
   "outputs": [
    {
     "data": {
      "image/png": "[encoded data removed]",
      "text/plain": [
       "<Figure size 1000x1600 with 4 Axes>"
      ]
     },
     "metadata": {},
     "output_type": "display_data"
    }
   ],
   "source": [
    "# Plotting confusion matrices\n",
    "fig, axes = plt.subplots(1, 2, figsize=(10, 16))\n",
    "\n",
    "cm = confusion_matrix(y_test, y_pred_dt)\n",
    "disp = ConfusionMatrixDisplay(cm, display_labels = sorted(set(y_test['Class'])))\n",
    "disp.plot(ax=axes[0], colorbar = False)\n",
    "axes[0].set_title('DT with imbalanced classes')\n",
    "axes[0].tick_params(axis='x', rotation=90)\n",
    "plt.colorbar(disp.im_, ax=axes[0], shrink=0.2)\n",
    "\n",
    "cm = confusion_matrix(y_test, y_pred_rf)\n",
    "disp = ConfusionMatrixDisplay(cm, display_labels = sorted(set(y_test['Class'])))\n",
    "disp.plot(ax=axes[1], colorbar = False)\n",
    "axes[1].set_title('RF with imbalanced classes')\n",
    "axes[1].tick_params(axis='x', rotation=90)\n",
    "plt.colorbar(disp.im_, ax=axes[1], shrink=0.2)\n",
    "\n",
    "plt.tight_layout()\n",
    "plt.show()"
   ]
  },
  {
   "cell_type": "markdown",
   "id": "fa86438d-654d-4eae-b2ea-4aaffce83b61",
   "metadata": {},
   "source": [
    "### Decision Tree with balanced classes"
   ]
  },
  {
   "cell_type": "markdown",
   "id": "3979d24e-88f4-4b64-b2cf-61eafa457923",
   "metadata": {},
   "source": [
    "Oversampling is a method to overcome class imbalance; data in small classes is increased by randomly doubling existing data."
   ]
  },
  {
   "cell_type": "code",
   "execution_count": 50,
   "id": "6a7461be-e00d-4da8-b138-6dc271f2a2f5",
   "metadata": {},
   "outputs": [
    {
     "name": "stdout",
     "output_type": "stream",
     "text": [
      "Before oversampling:\n",
      "Class\n",
      "DERMASON    3546\n",
      "SIRA        2636\n",
      "SEKER       2027\n",
      "HOROZ       1860\n",
      "CALI        1630\n",
      "BARBUNYA    1322\n",
      "BOMBAY       522\n",
      "Name: count, dtype: int64\n",
      "\n",
      "After oversampling:\n"
     ]
    },
    {
     "data": {
      "text/plain": [
       "Class\n",
       "SEKER       3546\n",
       "BARBUNYA    3546\n",
       "BOMBAY      3546\n",
       "DERMASON    3546\n",
       "HOROZ       3546\n",
       "CALI        3545\n",
       "SIRA        3545\n",
       "Name: count, dtype: int64"
      ]
     },
     "execution_count": 50,
     "metadata": {},
     "output_type": "execute_result"
    }
   ],
   "source": [
    "# Oversampling classes\n",
    "class_counts = dry_bean_dataset.data.original['Class'].value_counts()\n",
    "print('Before oversampling:')\n",
    "print(class_counts)\n",
    "class_max = class_counts.idxmax()\n",
    "\n",
    "for class_min in class_counts.index: # Oversampling each class\n",
    "    class_ratio = class_counts[class_max] / class_counts[class_min]\n",
    "    class_samples = dry_bean_dataset.data.original[dry_bean_dataset.data.original['Class'] == class_min]\n",
    "    class_oversampled = class_samples.sample(n=int(len(class_samples) * (class_ratio - 1)), replace=True)\n",
    "    dry_bean_dataset.data.original = pd.concat([dry_bean_dataset.data.original, class_oversampled], axis = 0)\n",
    "\n",
    "dry_bean_dataset.data.original = dry_bean_dataset.data.original.sample(frac=1, random_state=42).reset_index(drop=True) # Shuffling the data\n",
    "dry_bean_dataset.data.features = dry_bean_dataset.data.original.iloc[:,:-1]\n",
    "dry_bean_dataset.data.targets = dry_bean_dataset.data.original['Class'].to_frame(name = 'Class')\n",
    "print('\\nAfter oversampling:')\n",
    "dry_bean_dataset.data.original['Class'].value_counts()"
   ]
  },
  {
   "cell_type": "code",
   "execution_count": 54,
   "id": "0ee82518-ac70-40b4-abc0-c5ece7d4c065",
   "metadata": {},
   "outputs": [
    {
     "name": "stdout",
     "output_type": "stream",
     "text": [
      "Best hyperparameters found: {'criterion': 'gini', 'max_depth': 18, 'max_features': 'log2', 'min_samples_leaf': 1, 'min_samples_split': 2}\n"
     ]
    },
    {
     "data": {
      "text/html": [
       "<div>\n",
       "<style scoped>\n",
       "    .dataframe tbody tr th:only-of-type {\n",
       "        vertical-align: middle;\n",
       "    }\n",
       "\n",
       "    .dataframe tbody tr th {\n",
       "        vertical-align: top;\n",
       "    }\n",
       "\n",
       "    .dataframe thead th {\n",
       "        text-align: right;\n",
       "    }\n",
       "</style>\n",
       "<table border=\"1\" class=\"dataframe\">\n",
       "  <thead>\n",
       "    <tr style=\"text-align: right;\">\n",
       "      <th></th>\n",
       "      <th>DT</th>\n",
       "      <th>RF</th>\n",
       "      <th>DF + oversampling</th>\n",
       "    </tr>\n",
       "  </thead>\n",
       "  <tbody>\n",
       "    <tr>\n",
       "      <th>Precision</th>\n",
       "      <td>0.9082</td>\n",
       "      <td>0.9225</td>\n",
       "      <td>0.9513</td>\n",
       "    </tr>\n",
       "    <tr>\n",
       "      <th>Recall</th>\n",
       "      <td>0.9079</td>\n",
       "      <td>0.9225</td>\n",
       "      <td>0.9511</td>\n",
       "    </tr>\n",
       "    <tr>\n",
       "      <th>F1 score</th>\n",
       "      <td>0.9080</td>\n",
       "      <td>0.9224</td>\n",
       "      <td>0.9511</td>\n",
       "    </tr>\n",
       "    <tr>\n",
       "      <th>Accuracy</th>\n",
       "      <td>0.9079</td>\n",
       "      <td>0.9225</td>\n",
       "      <td>0.9511</td>\n",
       "    </tr>\n",
       "  </tbody>\n",
       "</table>\n",
       "</div>"
      ],
      "text/plain": [
       "               DT      RF  DF + oversampling\n",
       "Precision  0.9082  0.9225             0.9513\n",
       "Recall     0.9079  0.9225             0.9511\n",
       "F1 score   0.9080  0.9224             0.9511\n",
       "Accuracy   0.9079  0.9225             0.9511"
      ]
     },
     "execution_count": 54,
     "metadata": {},
     "output_type": "execute_result"
    }
   ],
   "source": [
    "# AGAIN finding, training and evaluating the optimal model\n",
    "X_train, X_test, y_train, y_test = train_test_split(dry_bean_dataset.data.features, dry_bean_dataset.data.targets, test_size=0.3, random_state=42)\n",
    "y_train = np.ravel(y_train)\n",
    "\n",
    "tree_clf = DecisionTreeClassifier(random_state=42)\n",
    "random_search = RandomizedSearchCV(tree_clf, param_distributions=param_dt, n_iter=100, cv=5, scoring='f1_weighted', random_state=42, n_jobs = -1)\n",
    "random_search.fit(X_train, y_train)\n",
    "print(\"Best hyperparameters found:\", random_search.best_params_)\n",
    "\n",
    "best_clf = random_search.best_estimator_\n",
    "y_pred_dt = best_clf.predict(X_test)\n",
    "precision = round(precision_score(y_test, y_pred_dt, average='weighted'), 4)\n",
    "recall = round(recall_score(y_test, y_pred_dt, average='weighted'), 4)\n",
    "f1 = round(f1_score(y_test, y_pred_dt, average='weighted'), 4)\n",
    "accuracy = round(accuracy_score(y_test, y_pred_dt), 4)\n",
    "\n",
    "results_df['DF + oversampling'] = [precision, recall, f1, accuracy]\n",
    "results_df"
   ]
  },
  {
   "cell_type": "code",
   "execution_count": 52,
   "id": "9ec72da1-2f13-49b0-a7bc-b1f51076e453",
   "metadata": {},
   "outputs": [
    {
     "data": {
      "text/html": [
       "<div>\n",
       "<style scoped>\n",
       "    .dataframe tbody tr th:only-of-type {\n",
       "        vertical-align: middle;\n",
       "    }\n",
       "\n",
       "    .dataframe tbody tr th {\n",
       "        vertical-align: top;\n",
       "    }\n",
       "\n",
       "    .dataframe thead th {\n",
       "        text-align: right;\n",
       "    }\n",
       "</style>\n",
       "<table border=\"1\" class=\"dataframe\">\n",
       "  <thead>\n",
       "    <tr style=\"text-align: right;\">\n",
       "      <th></th>\n",
       "      <th>BARBUNYA</th>\n",
       "      <th>BOMBAY</th>\n",
       "      <th>CALI</th>\n",
       "      <th>DERMASON</th>\n",
       "      <th>HOROZ</th>\n",
       "      <th>SEKER</th>\n",
       "      <th>SIRA</th>\n",
       "    </tr>\n",
       "  </thead>\n",
       "  <tbody>\n",
       "    <tr>\n",
       "      <th>Precision</th>\n",
       "      <td>0.9739</td>\n",
       "      <td>1.0</td>\n",
       "      <td>0.9690</td>\n",
       "      <td>0.9191</td>\n",
       "      <td>0.9651</td>\n",
       "      <td>0.9524</td>\n",
       "      <td>0.8788</td>\n",
       "    </tr>\n",
       "    <tr>\n",
       "      <th>Recall</th>\n",
       "      <td>0.9658</td>\n",
       "      <td>1.0</td>\n",
       "      <td>0.9735</td>\n",
       "      <td>0.8764</td>\n",
       "      <td>0.9623</td>\n",
       "      <td>0.9656</td>\n",
       "      <td>0.9102</td>\n",
       "    </tr>\n",
       "    <tr>\n",
       "      <th>F1 score</th>\n",
       "      <td>0.9699</td>\n",
       "      <td>1.0</td>\n",
       "      <td>0.9712</td>\n",
       "      <td>0.8972</td>\n",
       "      <td>0.9637</td>\n",
       "      <td>0.9590</td>\n",
       "      <td>0.8942</td>\n",
       "    </tr>\n",
       "  </tbody>\n",
       "</table>\n",
       "</div>"
      ],
      "text/plain": [
       "           BARBUNYA  BOMBAY    CALI  DERMASON   HOROZ   SEKER    SIRA\n",
       "Precision    0.9739     1.0  0.9690    0.9191  0.9651  0.9524  0.8788\n",
       "Recall       0.9658     1.0  0.9735    0.8764  0.9623  0.9656  0.9102\n",
       "F1 score     0.9699     1.0  0.9712    0.8972  0.9637  0.9590  0.8942"
      ]
     },
     "execution_count": 52,
     "metadata": {},
     "output_type": "execute_result"
    }
   ],
   "source": [
    "# Evaluating the model by classes\n",
    "results_df_class = pd.DataFrame(columns = sorted(set(y_test['Class'])))\n",
    "results_df_class.loc['Precision'] = np.around(precision_score(y_test, y_pred_dt, average=None), decimals = 4)\n",
    "results_df_class.loc['Recall'] = np.around(recall_score(y_test, y_pred_dt, average=None), decimals = 4)\n",
    "results_df_class.loc['F1 score'] = np.around(f1_score(y_test, y_pred_dt, average=None), decimals = 4)\n",
    "results_df_class"
   ]
  },
  {
   "cell_type": "markdown",
   "id": "5306a60c-b2e4-448f-8a4f-433b402ec6d4",
   "metadata": {},
   "source": [
    "### Random Forest with balanced classes"
   ]
  },
  {
   "cell_type": "code",
   "execution_count": 55,
   "id": "82e9331e-692d-4c9a-b821-07c39f482b89",
   "metadata": {},
   "outputs": [
    {
     "name": "stdout",
     "output_type": "stream",
     "text": [
      "Best hyperparameters found: {'bootstrap': False, 'criterion': 'entropy', 'max_depth': 19, 'max_features': 'log2', 'min_samples_leaf': 2, 'min_samples_split': 11, 'n_estimators': 179}\n"
     ]
    },
    {
     "data": {
      "text/html": [
       "<div>\n",
       "<style scoped>\n",
       "    .dataframe tbody tr th:only-of-type {\n",
       "        vertical-align: middle;\n",
       "    }\n",
       "\n",
       "    .dataframe tbody tr th {\n",
       "        vertical-align: top;\n",
       "    }\n",
       "\n",
       "    .dataframe thead th {\n",
       "        text-align: right;\n",
       "    }\n",
       "</style>\n",
       "<table border=\"1\" class=\"dataframe\">\n",
       "  <thead>\n",
       "    <tr style=\"text-align: right;\">\n",
       "      <th></th>\n",
       "      <th>DT</th>\n",
       "      <th>RF</th>\n",
       "      <th>DF + oversampling</th>\n",
       "      <th>RF + oversampling</th>\n",
       "    </tr>\n",
       "  </thead>\n",
       "  <tbody>\n",
       "    <tr>\n",
       "      <th>Precision</th>\n",
       "      <td>0.9082</td>\n",
       "      <td>0.9225</td>\n",
       "      <td>0.9513</td>\n",
       "      <td>0.9663</td>\n",
       "    </tr>\n",
       "    <tr>\n",
       "      <th>Recall</th>\n",
       "      <td>0.9079</td>\n",
       "      <td>0.9225</td>\n",
       "      <td>0.9511</td>\n",
       "      <td>0.9663</td>\n",
       "    </tr>\n",
       "    <tr>\n",
       "      <th>F1 score</th>\n",
       "      <td>0.9080</td>\n",
       "      <td>0.9224</td>\n",
       "      <td>0.9511</td>\n",
       "      <td>0.9663</td>\n",
       "    </tr>\n",
       "    <tr>\n",
       "      <th>Accuracy</th>\n",
       "      <td>0.9079</td>\n",
       "      <td>0.9225</td>\n",
       "      <td>0.9511</td>\n",
       "      <td>0.9663</td>\n",
       "    </tr>\n",
       "  </tbody>\n",
       "</table>\n",
       "</div>"
      ],
      "text/plain": [
       "               DT      RF  DF + oversampling  RF + oversampling\n",
       "Precision  0.9082  0.9225             0.9513             0.9663\n",
       "Recall     0.9079  0.9225             0.9511             0.9663\n",
       "F1 score   0.9080  0.9224             0.9511             0.9663\n",
       "Accuracy   0.9079  0.9225             0.9511             0.9663"
      ]
     },
     "execution_count": 55,
     "metadata": {},
     "output_type": "execute_result"
    }
   ],
   "source": [
    "# AGAIN finding, training and evaluating the optimal model\n",
    "rf_clf = RandomForestClassifier(random_state=42)\n",
    "random_search = RandomizedSearchCV(rf_clf, param_distributions=param_rf, n_iter=100, cv=5, scoring='f1_weighted', random_state=42, n_jobs = -1)\n",
    "random_search.fit(X_train, y_train)\n",
    "print(\"Best hyperparameters found:\", random_search.best_params_)\n",
    "\n",
    "best_rf_clf = random_search.best_estimator_\n",
    "y_pred_rf = best_rf_clf.predict(X_test)\n",
    "precision = round(precision_score(y_test, y_pred_rf, average='weighted'), 4)\n",
    "recall = round(recall_score(y_test, y_pred_rf, average='weighted'), 4)\n",
    "f1 = round(f1_score(y_test, y_pred_rf, average='weighted'), 4)\n",
    "accuracy = round(accuracy_score(y_test, y_pred_rf), 4)\n",
    "\n",
    "results_df['RF + oversampling'] = [precision, recall, f1, accuracy]\n",
    "results_df"
   ]
  },
  {
   "cell_type": "markdown",
   "id": "f6dd17a9-d6b8-4bff-a7ee-178a57db6d63",
   "metadata": {},
   "source": [
    "The test results show that classification using Random Forest with balanced data achieves better results than Decision Tree."
   ]
  },
  {
   "cell_type": "code",
   "execution_count": 56,
   "id": "527805bb-dbbd-46ef-9e87-c75dd2fcc632",
   "metadata": {},
   "outputs": [
    {
     "data": {
      "text/html": [
       "<div>\n",
       "<style scoped>\n",
       "    .dataframe tbody tr th:only-of-type {\n",
       "        vertical-align: middle;\n",
       "    }\n",
       "\n",
       "    .dataframe tbody tr th {\n",
       "        vertical-align: top;\n",
       "    }\n",
       "\n",
       "    .dataframe thead th {\n",
       "        text-align: right;\n",
       "    }\n",
       "</style>\n",
       "<table border=\"1\" class=\"dataframe\">\n",
       "  <thead>\n",
       "    <tr style=\"text-align: right;\">\n",
       "      <th></th>\n",
       "      <th>BARBUNYA</th>\n",
       "      <th>BOMBAY</th>\n",
       "      <th>CALI</th>\n",
       "      <th>DERMASON</th>\n",
       "      <th>HOROZ</th>\n",
       "      <th>SEKER</th>\n",
       "      <th>SIRA</th>\n",
       "    </tr>\n",
       "  </thead>\n",
       "  <tbody>\n",
       "    <tr>\n",
       "      <th>Precision</th>\n",
       "      <td>0.9804</td>\n",
       "      <td>0.9991</td>\n",
       "      <td>0.9756</td>\n",
       "      <td>0.9299</td>\n",
       "      <td>0.9795</td>\n",
       "      <td>0.9653</td>\n",
       "      <td>0.9325</td>\n",
       "    </tr>\n",
       "    <tr>\n",
       "      <th>Recall</th>\n",
       "      <td>0.9714</td>\n",
       "      <td>1.0000</td>\n",
       "      <td>0.9839</td>\n",
       "      <td>0.9318</td>\n",
       "      <td>0.9700</td>\n",
       "      <td>0.9814</td>\n",
       "      <td>0.9239</td>\n",
       "    </tr>\n",
       "    <tr>\n",
       "      <th>F1 score</th>\n",
       "      <td>0.9759</td>\n",
       "      <td>0.9995</td>\n",
       "      <td>0.9798</td>\n",
       "      <td>0.9308</td>\n",
       "      <td>0.9748</td>\n",
       "      <td>0.9733</td>\n",
       "      <td>0.9282</td>\n",
       "    </tr>\n",
       "  </tbody>\n",
       "</table>\n",
       "</div>"
      ],
      "text/plain": [
       "           BARBUNYA  BOMBAY    CALI  DERMASON   HOROZ   SEKER    SIRA\n",
       "Precision    0.9804  0.9991  0.9756    0.9299  0.9795  0.9653  0.9325\n",
       "Recall       0.9714  1.0000  0.9839    0.9318  0.9700  0.9814  0.9239\n",
       "F1 score     0.9759  0.9995  0.9798    0.9308  0.9748  0.9733  0.9282"
      ]
     },
     "execution_count": 56,
     "metadata": {},
     "output_type": "execute_result"
    }
   ],
   "source": [
    "# Evaluating the model by classes\n",
    "results_df_class = pd.DataFrame(columns = sorted(set(y_test['Class'])))\n",
    "results_df_class.loc['Precision'] = np.around(precision_score(y_test, y_pred_rf, average=None), decimals = 4)\n",
    "results_df_class.loc['Recall'] = np.around(recall_score(y_test, y_pred_rf, average=None), decimals = 4)\n",
    "results_df_class.loc['F1 score'] = np.around(f1_score(y_test, y_pred_rf, average=None), decimals = 4)\n",
    "results_df_class"
   ]
  },
  {
   "cell_type": "code",
   "execution_count": 57,
   "id": "f1c96740-ed40-4d47-9bda-5100c9d6e83e",
   "metadata": {},
   "outputs": [
    {
     "data": {
      "image/png": "[encoded data removed]",
      "text/plain": [
       "<Figure size 1000x1600 with 4 Axes>"
      ]
     },
     "metadata": {},
     "output_type": "display_data"
    }
   ],
   "source": [
    "# Plotting confusion matrices\n",
    "fig, axes = plt.subplots(1, 2, figsize=(10, 16))\n",
    "\n",
    "cm = confusion_matrix(y_test, y_pred_rf)\n",
    "disp = ConfusionMatrixDisplay(cm, display_labels = sorted(set(y_test['Class'])))\n",
    "disp.plot(ax=axes[0], colorbar = False)\n",
    "axes[0].set_title('DT with balanced classes')\n",
    "axes[0].tick_params(axis='x', rotation=90)\n",
    "plt.colorbar(disp.im_, ax=axes[0], shrink=0.2)\n",
    "\n",
    "cm = confusion_matrix(y_test, y_pred_dt)\n",
    "disp = ConfusionMatrixDisplay(cm, display_labels = sorted(set(y_test['Class'])))\n",
    "disp.plot(ax=axes[1], colorbar = False)\n",
    "axes[1].set_title('RF with balanced classes')\n",
    "axes[1].tick_params(axis='x', rotation=90)\n",
    "plt.colorbar(disp.im_, ax=axes[1], shrink=0.2)\n",
    "\n",
    "plt.tight_layout()\n",
    "plt.show()"
   ]
  },
  {
   "cell_type": "code",
   "execution_count": 58,
   "id": "7a420723-65bc-4788-9fd6-f29bb8ebf1ef",
   "metadata": {},
   "outputs": [],
   "source": [
    "# Saving optimal random forest with balanced classes\n",
    "with open('best_rf_clf.pkl', 'wb') as file:\n",
    "    pickle.dump(best_rf_clf, file)"
   ]
  }
 ],
 "metadata": {
  "kernelspec": {
   "display_name": "Python 3 (ipykernel)",
   "language": "python",
   "name": "python3"
  },
  "language_info": {
   "codemirror_mode": {
    "name": "ipython",
    "version": 3
   },
   "file_extension": ".py",
   "mimetype": "text/x-python",
   "name": "python",
   "nbconvert_exporter": "python",
   "pygments_lexer": "ipython3",
   "version": "3.12.2"
  }
 },
 "nbformat": 4,
 "nbformat_minor": 5
}
